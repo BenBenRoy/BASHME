{
 "cells": [
  {
   "cell_type": "code",
   "execution_count": 1,
   "id": "d33910bc",
   "metadata": {},
   "outputs": [
    {
     "name": "stdout",
     "output_type": "stream",
     "text": [
      "anaconda3\n",
      "Anaconda3-5.3.0-Linux-x86_64.sh\n",
      "Desktop\n",
      "Documents\n",
      "Downloads\n",
      "Music\n",
      "Pictures\n",
      "Public\n",
      "Templates\n",
      "Untitled.ipynb\n",
      "Videos\n"
     ]
    }
   ],
   "source": [
    "%%bash\n",
    "ls"
   ]
  }
 ],
 "metadata": {
  "kernelspec": {
   "display_name": "Python 3 (ipykernel)",
   "language": "python",
   "name": "python3"
  },
  "language_info": {
   "codemirror_mode": {
    "name": "ipython",
    "version": 3
   },
   "file_extension": ".py",
   "mimetype": "text/x-python",
   "name": "python",
   "nbconvert_exporter": "python",
   "pygments_lexer": "ipython3",
   "version": "3.9.13"
  }
 },
 "nbformat": 4,
 "nbformat_minor": 5
}
